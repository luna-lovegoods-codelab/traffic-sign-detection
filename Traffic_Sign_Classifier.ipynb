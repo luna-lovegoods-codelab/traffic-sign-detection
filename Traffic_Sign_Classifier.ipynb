{
 "cells": [
  {
   "cell_type": "markdown",
   "metadata": {},
   "source": [
    "# Traffic sign classification  - German Traffic Sign Data\n",
    "### Pytorch Implementation\n",
    "\n",
    "---\n",
    "## Load The Data"
   ]
  },
  {
   "cell_type": "code",
   "execution_count": 1,
   "metadata": {},
   "outputs": [],
   "source": [
    "# Load pickled data\n",
    "import pickle\n",
    "\n",
    "training_file = \"data/train.p\"\n",
    "validation_file=\"data/valid.p\"\n",
    "testing_file = \"data/test.p\"\n",
    "\n",
    "with open(training_file, mode='rb') as f:\n",
    "    train = pickle.load(f)\n",
    "with open(validation_file, mode='rb') as f:\n",
    "    valid = pickle.load(f)\n",
    "with open(testing_file, mode='rb') as f:\n",
    "    test = pickle.load(f)\n",
    "    \n",
    "X_train, y_train = train['features'], train['labels']\n",
    "X_valid, y_valid = valid['features'], valid['labels']\n",
    "X_test, y_test = test['features'], test['labels']"
   ]
  },
  {
   "cell_type": "markdown",
   "metadata": {},
   "source": [
    "---\n",
    "\n",
    "## Dataset Summary & Exploration\n",
    "\n",
    "The pickled data is a dictionary with 4 key/value pairs:\n",
    "\n",
    "- `'features'` is a 4D array containing raw pixel data of the traffic sign images, (num examples, width, height, channels).\n",
    "- `'labels'` is a 1D array containing the label/class id of the traffic sign. The file `signnames.csv` contains id -> name mappings for each id.\n",
    "- `'sizes'` is a list containing tuples, (width, height) representing the original width and height the image.\n",
    "- `'coords'` is a list containing tuples, (x1, y1, x2, y2) representing coordinates of a bounding box around the sign in the image. **THESE COORDINATES ASSUME THE ORIGINAL IMAGE. THE PICKLED DATA CONTAINS RESIZED VERSIONS (32 by 32) OF THESE IMAGES**"
   ]
  },
  {
   "cell_type": "code",
   "execution_count": 2,
   "metadata": {},
   "outputs": [],
   "source": [
    "import numpy as np"
   ]
  },
  {
   "cell_type": "code",
   "execution_count": 3,
   "metadata": {},
   "outputs": [
    {
     "name": "stdout",
     "output_type": "stream",
     "text": [
      "Number of training examples = 34799\n",
      "Number of testing examples = 12630\n",
      "Image data shape = (32, 32, 3)\n",
      "Number of classes = 43\n"
     ]
    }
   ],
   "source": [
    "# Number of training examples\n",
    "n_train = len(train[\"features\"])\n",
    "\n",
    "# Number of validation examples\n",
    "n_validation = len(valid[\"features\"])\n",
    "\n",
    "# Number of testing examples.\n",
    "n_test = len(test[\"features\"])\n",
    "\n",
    "# What's the shape of an traffic sign image?\n",
    "image_shape = train[\"features\"][0].shape\n",
    "\n",
    "# How many unique classes/labels there are in the dataset.\n",
    "n_classes = len(np.unique(np.concatenate((train[\"labels\"],test[\"labels\"],valid[\"labels\"]))))\n",
    "\n",
    "print(\"Number of training examples =\", n_train)\n",
    "print(\"Number of testing examples =\", n_test)\n",
    "print(\"Image data shape =\", image_shape)\n",
    "print(\"Number of classes =\", n_classes)"
   ]
  },
  {
   "cell_type": "code",
   "execution_count": 4,
   "metadata": {},
   "outputs": [],
   "source": [
    "import matplotlib.pyplot as plt\n",
    "# Visualizations will be shown in the notebook.\n",
    "%matplotlib inline"
   ]
  },
  {
   "cell_type": "code",
   "execution_count": 5,
   "metadata": {},
   "outputs": [
    {
     "data": {
      "image/png": "[encoded data removed]",
      "text/plain": [
       "<Figure size 432x288 with 1 Axes>"
      ]
     },
     "metadata": {
      "needs_background": "light"
     },
     "output_type": "display_data"
    }
   ],
   "source": [
    "plt.imshow(X_train[1000])\n",
    "plt.show()"
   ]
  },
  {
   "cell_type": "code",
   "execution_count": 6,
   "metadata": {},
   "outputs": [
    {
     "data": {
      "text/plain": [
       "(array([ 30., 240., 240., 150., 210., 210.,  60., 150., 150., 150., 210.,\n",
       "        150., 210., 240.,  90.,  90.,  60., 120., 120.,  30.,  60.,  60.,\n",
       "         60.,  60.,  30., 150.,  60.,  30.,  60.,  30.,  60.,  90.,  30.,\n",
       "         90.,  60., 120.,  60.,  30., 210.,  30.,  60.,  30.,  30.]),\n",
       " array([ 0.        ,  0.97674419,  1.95348837,  2.93023256,  3.90697674,\n",
       "         4.88372093,  5.86046512,  6.8372093 ,  7.81395349,  8.79069767,\n",
       "         9.76744186, 10.74418605, 11.72093023, 12.69767442, 13.6744186 ,\n",
       "        14.65116279, 15.62790698, 16.60465116, 17.58139535, 18.55813953,\n",
       "        19.53488372, 20.51162791, 21.48837209, 22.46511628, 23.44186047,\n",
       "        24.41860465, 25.39534884, 26.37209302, 27.34883721, 28.3255814 ,\n",
       "        29.30232558, 30.27906977, 31.25581395, 32.23255814, 33.20930233,\n",
       "        34.18604651, 35.1627907 , 36.13953488, 37.11627907, 38.09302326,\n",
       "        39.06976744, 40.04651163, 41.02325581, 42.        ]),\n",
       " <a list of 43 Patch objects>)"
      ]
     },
     "execution_count": 6,
     "metadata": {},
     "output_type": "execute_result"
    },
    {
     "data": {
      "image/png": "[encoded data removed]",
      "text/plain": [
       "<Figure size 1440x720 with 3 Axes>"
      ]
     },
     "metadata": {
      "needs_background": "light"
     },
     "output_type": "display_data"
    }
   ],
   "source": [
    "fig, axs = plt.subplots(1,3,figsize=(20,10),sharex=False,sharey=True)\n",
    "axs[0].hist(y_train,bins=43)\n",
    "axs[1].hist(y_test,bins=43)\n",
    "axs[2].hist(y_valid,bins=43)"
   ]
  },
  {
   "cell_type": "markdown",
   "metadata": {},
   "source": [
    "### GPU "
   ]
  },
  {
   "cell_type": "code",
   "execution_count": 7,
   "metadata": {},
   "outputs": [],
   "source": [
    "def get_default_device():\n",
    "    \"\"\"Pick GPU if available, else CPU\"\"\"\n",
    "    if torch.cuda.is_available():\n",
    "        return torch.device('cuda')\n",
    "    else:\n",
    "        return torch.device('cpu')\n",
    "    \n",
    "def to_device(data, device):\n",
    "    \"\"\"Move tensor(s) to chosen device\"\"\"\n",
    "    if isinstance(data, (list,tuple)):\n",
    "        return [to_device(x, device) for x in data]\n",
    "    return data.to(device=device,dtype=None)\n",
    "\n",
    "class DeviceDataLoader():\n",
    "    \"\"\"Wrap a dataloader to move data to a device\"\"\"\n",
    "    def __init__(self, dl, device):\n",
    "        self.dl = dl\n",
    "        self.device = device\n",
    "        \n",
    "    def __iter__(self):\n",
    "        \"\"\"Yield a batch of data after moving it to device\"\"\"\n",
    "        for b in self.dl: \n",
    "            yield to_device(b, self.device)\n",
    "\n",
    "    def __len__(self):\n",
    "        \"\"\"Number of batches\"\"\"\n",
    "        return len(self.dl)"
   ]
  },
  {
   "cell_type": "markdown",
   "metadata": {},
   "source": [
    "### Pre-process the Data Set"
   ]
  },
  {
   "cell_type": "code",
   "execution_count": 26,
   "metadata": {},
   "outputs": [],
   "source": [
    "from PIL import Image\n",
    "import torch\n",
    "import torchvision as tv\n",
    "\n",
    "device = get_default_device()\n",
    "\n",
    "#Data augmentation and normalization\n",
    "def trainTransform(x):\n",
    "    tfm = tv.transforms.Compose([tv.transforms.ToTensor(),\n",
    "                                tv.transforms.Normalize((0.5, 0.5, 0.5), (0.5, 0.5, 0.5))])\n",
    "    x = Image.fromarray(x)\n",
    "    x = tfm(x)\n",
    "    return x\n",
    "\n",
    "def brightnessTransform(x):\n",
    "    tfm = tv.transforms.Compose([tv.transforms.ColorJitter(0.5),\n",
    "                                tv.transforms.ToTensor(),\n",
    "                                tv.transforms.Normalize((0.5, 0.5, 0.5), (0.5, 0.5, 0.5))])\n",
    "    x = Image.fromarray(x)\n",
    "    x = tfm(x)\n",
    "    return x\n",
    "\n",
    "def grayTransform(x):\n",
    "    tfm = tv.transforms.Compose([tv.transforms.RandomGrayscale(p=1),\n",
    "                                tv.transforms.ToTensor(),\n",
    "                                tv.transforms.Normalize((0.5, 0.5, 0.5), (0.5, 0.5, 0.5))])\n",
    "    x = Image.fromarray(x)\n",
    "    x = tfm(x)\n",
    "    return x\n",
    "\n",
    "def resizeTransform(x):\n",
    "    tfm = tv.transforms.Compose([tv.transforms.RandomResizedCrop(32,scale=(0.07,1)),\n",
    "                                tv.transforms.ToTensor(),\n",
    "                                tv.transforms.Normalize((0.5, 0.5, 0.5), (0.5, 0.5, 0.5))])\n",
    "    x = Image.fromarray(x)\n",
    "    x = tfm(x)\n",
    "    return x\n",
    "\n",
    "def affineTransform(x):\n",
    "    tfm = tv.transforms.Compose([tv.transforms.RandomAffine(degrees=20,scale=(0.07,1),\n",
    "                                                            translate=(0.08,0.08),shear=(10,10)),\n",
    "                                tv.transforms.ToTensor(),\n",
    "                                tv.transforms.Normalize((0.5, 0.5, 0.5), (0.5, 0.5, 0.5))])\n",
    "    x = Image.fromarray(x)\n",
    "    x = tfm(x)\n",
    "    return x\n",
    "    \n",
    "trainX = torch.stack([trainTransform(x) for x in X_train])\n",
    "trainX_bright = torch.stack([brightnessTransform(x) for x in X_train])\n",
    "trainX_gray = torch.stack([grayTransform(x) for x in X_train])\n",
    "trainX_resize = torch.stack([resizeTransform(x) for x in X_train])\n",
    "trainX_affine = torch.stack([affineTransform(x) for x in X_train])\n",
    "testX = torch.stack([trainTransform(x) for x in X_test])\n",
    "validX = torch.stack([trainTransform(x) for x in X_valid])"
   ]
  },
  {
   "cell_type": "code",
   "execution_count": 27,
   "metadata": {},
   "outputs": [],
   "source": [
    "from torch.utils.data import DataLoader,TensorDataset, ConcatDataset\n",
    "train_base_dataset = TensorDataset(trainX,torch.LongTensor(y_train))\n",
    "train_bright_dataset = TensorDataset(trainX_bright,torch.LongTensor(y_train))\n",
    "train_gray_dataset = TensorDataset(trainX_gray,torch.LongTensor(y_train))\n",
    "train_resize_dataset = TensorDataset(trainX_resize,torch.LongTensor(y_train))\n",
    "train_affine_dataset = TensorDataset(trainX_affine,torch.LongTensor(y_train))\n",
    "\n",
    "train_dataset = ConcatDataset([train_base_dataset,train_bright_dataset,train_gray_dataset,\n",
    "                               train_resize_dataset,train_affine_dataset])\n",
    "test_dataset = TensorDataset(testX,torch.LongTensor(y_test))\n",
    "valid_dataset = TensorDataset(validX,torch.LongTensor(y_valid))\n",
    "\n",
    "#Define dataloaders\n",
    "def get_train_loader(batch_size):\n",
    "    train_loader = DataLoader(train_dataset, batch_size=batch_size,shuffle=True,num_workers=2)\n",
    "    train_loader = DeviceDataLoader(train_loader,device)\n",
    "    return(train_loader)\n",
    "\n",
    "test_loader = DeviceDataLoader(DataLoader(test_dataset, batch_size=len(y_test), shuffle=True,num_workers=2),device)\n",
    "val_loader = DeviceDataLoader(DataLoader(valid_dataset, batch_size=len(y_valid), shuffle=True,num_workers=2),device)"
   ]
  },
  {
   "cell_type": "markdown",
   "metadata": {},
   "source": [
    "### Model Architecture"
   ]
  },
  {
   "cell_type": "code",
   "execution_count": 28,
   "metadata": {},
   "outputs": [],
   "source": [
    "import torch\n",
    "import torch.nn.functional as F"
   ]
  },
  {
   "cell_type": "code",
   "execution_count": 43,
   "metadata": {},
   "outputs": [],
   "source": [
    "class LeNet(torch.nn.Module):\n",
    "    \n",
    "    def __init__(self):\n",
    "        super(LeNet, self).__init__()\n",
    "        \n",
    "        self.relu = torch.nn.ReLU()\n",
    "        \n",
    "        #input shape: 32x32x3\n",
    "        #Conv layer 1: Input channels = 3, output channels = 6, filter size = 5x5, stride = 1\n",
    "        self.conv1 = torch.nn.Conv2d(3, 6, kernel_size=(5,5), stride=1,padding=0)\n",
    "        \n",
    "        #shape:28x28x6 \n",
    "        \n",
    "        \n",
    "        #Pool layer 1: filter size = 2x2, stride = 2\n",
    "        self.pool1 = torch.nn.MaxPool2d(kernel_size=(2,2), stride=2, padding=0)\n",
    "        \n",
    "        #shape: 14x14x6\n",
    "        \n",
    "        #Conv layer 2: Input channels = 6, output channels = 16, filter size = 5x5, stride = 1\n",
    "        self.conv2 = torch.nn.Conv2d(6, 16, kernel_size=(5,5), stride=1,padding=0)\n",
    "        \n",
    "        #shape: 10x10x16\n",
    "        \n",
    "        #Pool layer 2: filter size = 2x2, stride = 2\n",
    "        self.pool2 = torch.nn.MaxPool2d(kernel_size=(2,2), stride=2, padding=0)\n",
    "        \n",
    "        #shape: 5x5x16\n",
    "        \n",
    "        #self.flatten1 = torch.flatten()\n",
    "        \n",
    "        #Fully connected layer 1: 400 input features, 120 output features (see sizing flow below)\n",
    "        self.fc1 = torch.nn.Linear(400, 120)\n",
    "        self.dropout = torch.nn.Dropout(p=0.2)\n",
    "\n",
    "        #Fully connected layer 2: 120 input features, 10 output features for our 10 defined classes\n",
    "        self.fc2 = torch.nn.Linear(120, 84)\n",
    "        #self.dropout = torch.nn.Dropout(p=0.)\n",
    "        \n",
    "        #Output layer: Softmax, 43 outputs\n",
    "        #self.fc3 = torch.nn.Linear(120,84)\n",
    "        \n",
    "        self.fc3 = torch.nn.Linear(84,43)\n",
    "        self.softmaxout = torch.nn.LogSoftmax(dim=1)\n",
    "        \n",
    "    def forward(self, x):\n",
    "        x = self.conv1(x)\n",
    "        x = self.relu(x)\n",
    "        x = self.pool1(x)\n",
    "        x = self.conv2(x)\n",
    "        x = self.relu(x)\n",
    "        x = self.pool2(x)\n",
    "        x = x.view(-1, 400)\n",
    "        x = self.fc1(x)\n",
    "        x = self.relu(x)\n",
    "        #x = self.dropout(x)\n",
    "        x = self.fc2(x)\n",
    "        x = self.relu(x)\n",
    "        #x = self.dropout(x)\n",
    "        x = self.fc3(x)\n",
    "        x = self.softmaxout(x)\n",
    "        return(x)"
   ]
  },
  {
   "cell_type": "markdown",
   "metadata": {},
   "source": [
    "### Train, Validate and Test the Model"
   ]
  },
  {
   "cell_type": "markdown",
   "metadata": {},
   "source": [
    "A validation set can be used to assess how well the model is performing. A low accuracy on the training and validation\n",
    "sets imply underfitting. A high accuracy on the training set but low accuracy on the validation set implies overfitting."
   ]
  },
  {
   "cell_type": "code",
   "execution_count": 30,
   "metadata": {},
   "outputs": [],
   "source": [
    "import torch.optim as optim\n",
    "\n",
    "def createLossAndOptimizer(net, learning_rate=0.001):\n",
    "    \n",
    "    #Loss function\n",
    "    loss = torch.nn.CrossEntropyLoss()\n",
    "    \n",
    "    #Optimizer\n",
    "    optimizer = optim.Adam(net.parameters(), lr=learning_rate)\n",
    "    \n",
    "    return(loss, optimizer)"
   ]
  },
  {
   "cell_type": "code",
   "execution_count": 31,
   "metadata": {},
   "outputs": [],
   "source": [
    "import time\n",
    "from torch.autograd import Variable\n",
    "\n",
    "def trainNet(net, batch_size, n_epochs, learning_rate):\n",
    "    \n",
    "    #Print all of the hyperparameters of the training iteration:\n",
    "    print(\"===== HYPERPARAMETERS =====\")\n",
    "    print(\"batch_size=\", batch_size)\n",
    "    print(\"epochs=\", n_epochs)\n",
    "    print(\"learning_rate=\", learning_rate)\n",
    "    print(\"=\" * 30)\n",
    "    \n",
    "    #Get training data\n",
    "    train_loader = get_train_loader(batch_size)\n",
    "    n_batches = len(train_loader)\n",
    "    \n",
    "    #Create our loss and optimizer functions\n",
    "    loss, optimizer = createLossAndOptimizer(net, learning_rate)\n",
    "    \n",
    "    #Time for printing\n",
    "    training_start_time = time.time()\n",
    "    \n",
    "    #Loop for n_epochs\n",
    "    for epoch in range(n_epochs):\n",
    "        correct = 0\n",
    "        running_loss = 0.0\n",
    "        print_every = n_batches // 10\n",
    "        start_time = time.time()\n",
    "        total_train_loss = 0\n",
    "        \n",
    "        for i, (inputs,labels) in enumerate(train_loader):\n",
    "            \n",
    "            #Wrap them in a Variable object\n",
    "            inputs, labels = Variable(inputs), Variable(labels)\n",
    "            \n",
    "            #Set the parameter gradients to zero\n",
    "            optimizer.zero_grad()\n",
    "            \n",
    "            #Forward pass, backward pass, optimize\n",
    "            outputs = net(inputs)\n",
    "            loss_size = loss(outputs,labels)\n",
    "            loss_size.backward()\n",
    "            optimizer.step()\n",
    "            \n",
    "            #statistics\n",
    "            running_loss += loss_size.data\n",
    "            total_train_loss += loss_size.data\n",
    "            pred = outputs.detach().max(1)[1]\n",
    "            correct += pred.eq(labels.view_as(pred)).sum()\n",
    "            \n",
    "            #Print every epoch\n",
    "            if i+1 == n_batches:\n",
    "                print(\"Epoch {} \\ntraining accuracy: {:.2f} took: {:.2f}s\".format(\n",
    "                    epoch+1, 100*(float(correct) / len(train_loader.dl.dataset)), time.time() - start_time))\n",
    "                #Reset running loss and time\n",
    "                running_loss = 0.0\n",
    "                correct = 0\n",
    "                start_time = time.time()\n",
    "            \n",
    "        #At the end of the epoch, do a pass on the validation set\n",
    "        total_val_loss = 0\n",
    "        total_correct = 0\n",
    "        for inputs, labels in val_loader:\n",
    "            \n",
    "            #Wrap tensors in Variables\n",
    "            inputs, labels = Variable(inputs), Variable(labels)\n",
    "            \n",
    "            #Forward pass\n",
    "            val_outputs = net(inputs)\n",
    "            val_loss_size = loss(val_outputs, labels)\n",
    "            total_val_loss += val_loss_size.data\n",
    "            pred = val_outputs.detach().max(1)[1]\n",
    "            total_correct += pred.eq(labels.view_as(pred)).sum()\n",
    "        \n",
    "        print(\"Validation accuracy = {:.2f}%\".format(100*(float(total_correct) / len(val_loader.dl.dataset))))\n",
    "        print(\"Validation loss = {:.2f}\".format(float(total_val_loss) / len(val_loader.dl.dataset)))\n",
    "        \n",
    "    print(\"Training finished, took {:.2f}s\".format(time.time() - training_start_time))"
   ]
  },
  {
   "cell_type": "code",
   "execution_count": 44,
   "metadata": {},
   "outputs": [
    {
     "name": "stdout",
     "output_type": "stream",
     "text": [
      "===== HYPERPARAMETERS =====\n",
      "batch_size= 256\n",
      "epochs= 10\n",
      "learning_rate= 0.001\n",
      "==============================\n",
      "Epoch 1 \n",
      "training accuracy: 40.62 took: 8.73s\n",
      "Validation accuracy = 76.67%\n",
      "Validation loss = 0.00\n",
      "Epoch 2 \n",
      "training accuracy: 68.37 took: 9.82s\n",
      "Validation accuracy = 87.30%\n",
      "Validation loss = 0.00\n",
      "Epoch 3 \n",
      "training accuracy: 73.18 took: 9.60s\n",
      "Validation accuracy = 89.80%\n",
      "Validation loss = 0.00\n",
      "Epoch 4 \n",
      "training accuracy: 75.54 took: 7.95s\n",
      "Validation accuracy = 91.13%\n",
      "Validation loss = 0.00\n",
      "Epoch 5 \n",
      "training accuracy: 77.14 took: 8.12s\n",
      "Validation accuracy = 91.93%\n",
      "Validation loss = 0.00\n",
      "Epoch 6 \n",
      "training accuracy: 78.34 took: 7.86s\n",
      "Validation accuracy = 93.20%\n",
      "Validation loss = 0.00\n",
      "Epoch 7 \n",
      "training accuracy: 79.32 took: 7.71s\n",
      "Validation accuracy = 92.09%\n",
      "Validation loss = 0.00\n",
      "Epoch 8 \n",
      "training accuracy: 80.03 took: 8.22s\n",
      "Validation accuracy = 93.99%\n",
      "Validation loss = 0.00\n",
      "Epoch 9 \n",
      "training accuracy: 80.67 took: 8.12s\n",
      "Validation accuracy = 93.11%\n",
      "Validation loss = 0.00\n",
      "Epoch 10 \n",
      "training accuracy: 81.17 took: 8.09s\n",
      "Validation accuracy = 94.44%\n",
      "Validation loss = 0.00\n",
      "Training finished, took 92.97s\n"
     ]
    }
   ],
   "source": [
    "CNN = LeNet()\n",
    "to_device(CNN,device)\n",
    "trainNet(CNN, batch_size=256, n_epochs=10, learning_rate=0.001)"
   ]
  }
 ],
 "metadata": {
  "anaconda-cloud": {},
  "kernelspec": {
   "display_name": "Python 3",
   "language": "python",
   "name": "python3"
  },
  "language_info": {
   "codemirror_mode": {
    "name": "ipython",
    "version": 3
   },
   "file_extension": ".py",
   "mimetype": "text/x-python",
   "name": "python",
   "nbconvert_exporter": "python",
   "pygments_lexer": "ipython3",
   "version": "3.5.6"
  }
 },
 "nbformat": 4,
 "nbformat_minor": 1
}
